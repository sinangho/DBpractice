{
 "cells": [
  {
   "cell_type": "code",
   "execution_count": 25,
   "id": "78aa6205",
   "metadata": {
    "scrolled": true
   },
   "outputs": [
    {
     "name": "stdout",
     "output_type": "stream",
     "text": [
      "Collecting pandas\n",
      "  Downloading pandas-1.5.1-cp310-cp310-win_amd64.whl (10.4 MB)\n",
      "     --------------------------------------- 10.4/10.4 MB 11.3 MB/s eta 0:00:00\n",
      "Collecting numpy>=1.21.0\n",
      "  Downloading numpy-1.23.4-cp310-cp310-win_amd64.whl (14.6 MB)\n",
      "     ---------------------------------------- 14.6/14.6 MB 9.2 MB/s eta 0:00:00\n",
      "Requirement already satisfied: python-dateutil>=2.8.1 in d:\\python\\lib\\site-packages (from pandas) (2.8.2)\n",
      "Collecting pytz>=2020.1\n",
      "  Downloading pytz-2022.5-py2.py3-none-any.whl (500 kB)\n",
      "     ------------------------------------- 500.7/500.7 kB 10.4 MB/s eta 0:00:00\n",
      "Requirement already satisfied: six>=1.5 in d:\\python\\lib\\site-packages (from python-dateutil>=2.8.1->pandas) (1.16.0)\n",
      "Installing collected packages: pytz, numpy, pandas\n",
      "Successfully installed numpy-1.23.4 pandas-1.5.1 pytz-2022.5\n"
     ]
    },
    {
     "name": "stderr",
     "output_type": "stream",
     "text": [
      "WARNING: Ignoring invalid distribution -ip (d:\\python\\lib\\site-packages)\n",
      "WARNING: Ignoring invalid distribution -ip (d:\\python\\lib\\site-packages)\n",
      "WARNING: Ignoring invalid distribution -ip (d:\\python\\lib\\site-packages)\n",
      "WARNING: Ignoring invalid distribution -ip (d:\\python\\lib\\site-packages)\n",
      "WARNING: Ignoring invalid distribution -ip (d:\\python\\lib\\site-packages)\n",
      "WARNING: Ignoring invalid distribution -ip (d:\\python\\lib\\site-packages)\n",
      "WARNING: Ignoring invalid distribution -ip (d:\\python\\lib\\site-packages)\n",
      "WARNING: Ignoring invalid distribution -ip (d:\\python\\lib\\site-packages)\n",
      "WARNING: Ignoring invalid distribution -ip (d:\\python\\lib\\site-packages)\n"
     ]
    }
   ],
   "source": [
    "!pip3 install pandas"
   ]
  },
  {
   "cell_type": "code",
   "execution_count": 26,
   "id": "d8be61e7",
   "metadata": {},
   "outputs": [],
   "source": [
    "import pymysql\n",
    "\n",
    "import pandas as pd"
   ]
  },
  {
   "cell_type": "code",
   "execution_count": 27,
   "id": "07bd2854",
   "metadata": {},
   "outputs": [],
   "source": [
    "conn=pymysql.connect(host='localhost',port=int(3306),user='root',passwd='123456',db='mydb')"
   ]
  },
  {
   "cell_type": "code",
   "execution_count": 28,
   "id": "43612789",
   "metadata": {},
   "outputs": [],
   "source": [
    "cursor = conn.cursor(pymysql.cursors.DictCursor)"
   ]
  },
  {
   "cell_type": "code",
   "execution_count": 34,
   "id": "0ed1c920",
   "metadata": {},
   "outputs": [
    {
     "name": "stderr",
     "output_type": "stream",
     "text": [
      "C:\\Users\\Public\\Documents\\Wondershare\\CreatorTemp\\ipykernel_764\\3084744936.py:1: UserWarning: pandas only supports SQLAlchemy connectable (engine/connection) or database string URI or sqlite3 DBAPI2 connection. Other DBAPI2 objects are not tested. Please consider using SQLAlchemy.\n",
      "  drivers_df=pd.read_sql_query(\"SELECT * FROM driver\",conn)\n"
     ]
    }
   ],
   "source": [
    "drivers_df=pd.read_sql_query(\"SELECT * FROM driver\",conn)"
   ]
  },
  {
   "cell_type": "code",
   "execution_count": 35,
   "id": "5e8f1031",
   "metadata": {},
   "outputs": [
    {
     "data": {
      "text/html": [
       "<div>\n",
       "<style scoped>\n",
       "    .dataframe tbody tr th:only-of-type {\n",
       "        vertical-align: middle;\n",
       "    }\n",
       "\n",
       "    .dataframe tbody tr th {\n",
       "        vertical-align: top;\n",
       "    }\n",
       "\n",
       "    .dataframe thead th {\n",
       "        text-align: right;\n",
       "    }\n",
       "</style>\n",
       "<table border=\"1\" class=\"dataframe\">\n",
       "  <thead>\n",
       "    <tr style=\"text-align: right;\">\n",
       "      <th></th>\n",
       "      <th>driver id</th>\n",
       "      <th>name</th>\n",
       "      <th>license</th>\n",
       "      <th>security clearnance level</th>\n",
       "      <th>language</th>\n",
       "      <th>FATL level</th>\n",
       "      <th>FATL date</th>\n",
       "      <th>STLVT level</th>\n",
       "      <th>STLVT date</th>\n",
       "      <th>STLVT Certifying Authority</th>\n",
       "    </tr>\n",
       "  </thead>\n",
       "  <tbody>\n",
       "    <tr>\n",
       "      <th>0</th>\n",
       "      <td>1</td>\n",
       "      <td>Andrew</td>\n",
       "      <td>123456789000000000</td>\n",
       "      <td>1</td>\n",
       "      <td>English</td>\n",
       "      <td>NaN</td>\n",
       "      <td>None</td>\n",
       "      <td>NaN</td>\n",
       "      <td>None</td>\n",
       "      <td>None</td>\n",
       "    </tr>\n",
       "    <tr>\n",
       "      <th>1</th>\n",
       "      <td>2</td>\n",
       "      <td>David</td>\n",
       "      <td>123456789000000001</td>\n",
       "      <td>2</td>\n",
       "      <td>Japanese</td>\n",
       "      <td>2.0</td>\n",
       "      <td>2015-10-10</td>\n",
       "      <td>NaN</td>\n",
       "      <td>None</td>\n",
       "      <td>None</td>\n",
       "    </tr>\n",
       "    <tr>\n",
       "      <th>2</th>\n",
       "      <td>3</td>\n",
       "      <td>Enoch</td>\n",
       "      <td>123456789000000002</td>\n",
       "      <td>3</td>\n",
       "      <td>German</td>\n",
       "      <td>9.0</td>\n",
       "      <td>2014-09-15</td>\n",
       "      <td>4.0</td>\n",
       "      <td>2016-11-23</td>\n",
       "      <td>ADT Inc.</td>\n",
       "    </tr>\n",
       "    <tr>\n",
       "      <th>3</th>\n",
       "      <td>4</td>\n",
       "      <td>George</td>\n",
       "      <td>123456789000000003</td>\n",
       "      <td>4</td>\n",
       "      <td>Korean</td>\n",
       "      <td>NaN</td>\n",
       "      <td>None</td>\n",
       "      <td>2.0</td>\n",
       "      <td>2018-04-20</td>\n",
       "      <td>ADT Inc.</td>\n",
       "    </tr>\n",
       "  </tbody>\n",
       "</table>\n",
       "</div>"
      ],
      "text/plain": [
       "   driver id    name             license security clearnance level  language  \\\n",
       "0          1  Andrew  123456789000000000                         1   English   \n",
       "1          2   David  123456789000000001                         2  Japanese   \n",
       "2          3   Enoch  123456789000000002                         3    German   \n",
       "3          4  George  123456789000000003                         4    Korean   \n",
       "\n",
       "   FATL level   FATL date  STLVT level  STLVT date STLVT Certifying Authority  \n",
       "0         NaN        None          NaN        None                       None  \n",
       "1         2.0  2015-10-10          NaN        None                       None  \n",
       "2         9.0  2014-09-15          4.0  2016-11-23                   ADT Inc.  \n",
       "3         NaN        None          2.0  2018-04-20                   ADT Inc.  "
      ]
     },
     "execution_count": 35,
     "metadata": {},
     "output_type": "execute_result"
    }
   ],
   "source": [
    "drivers_df"
   ]
  },
  {
   "cell_type": "code",
   "execution_count": 37,
   "id": "83a318d0",
   "metadata": {},
   "outputs": [
    {
     "name": "stderr",
     "output_type": "stream",
     "text": [
      "C:\\Users\\Public\\Documents\\Wondershare\\CreatorTemp\\ipykernel_764\\1368223808.py:1: UserWarning: pandas only supports SQLAlchemy connectable (engine/connection) or database string URI or sqlite3 DBAPI2 connection. Other DBAPI2 objects are not tested. Please consider using SQLAlchemy.\n",
      "  booking_df=pd.read_sql_query(\"SELECT * FROM bookingservice\",conn)\n"
     ]
    }
   ],
   "source": [
    "booking_df=pd.read_sql_query(\"SELECT * FROM bookingservice\",conn)"
   ]
  },
  {
   "cell_type": "code",
   "execution_count": 38,
   "id": "8747f2ed",
   "metadata": {},
   "outputs": [
    {
     "data": {
      "text/html": [
       "<div>\n",
       "<style scoped>\n",
       "    .dataframe tbody tr th:only-of-type {\n",
       "        vertical-align: middle;\n",
       "    }\n",
       "\n",
       "    .dataframe tbody tr th {\n",
       "        vertical-align: top;\n",
       "    }\n",
       "\n",
       "    .dataframe thead th {\n",
       "        text-align: right;\n",
       "    }\n",
       "</style>\n",
       "<table border=\"1\" class=\"dataframe\">\n",
       "  <thead>\n",
       "    <tr style=\"text-align: right;\">\n",
       "      <th></th>\n",
       "      <th>booking id</th>\n",
       "      <th>booking reference number</th>\n",
       "      <th>pickup location</th>\n",
       "      <th>dropoff location</th>\n",
       "      <th>driver id</th>\n",
       "      <th>official id</th>\n",
       "      <th>start time</th>\n",
       "      <th>end time</th>\n",
       "      <th>start odometer</th>\n",
       "      <th>end odometer</th>\n",
       "      <th>vehicle id</th>\n",
       "    </tr>\n",
       "  </thead>\n",
       "  <tbody>\n",
       "    <tr>\n",
       "      <th>0</th>\n",
       "      <td>1</td>\n",
       "      <td>1</td>\n",
       "      <td>1</td>\n",
       "      <td>2</td>\n",
       "      <td>1</td>\n",
       "      <td>2</td>\n",
       "      <td>2022-10-01 12:00:00</td>\n",
       "      <td>2022-10-01 13:15:00</td>\n",
       "      <td>0</td>\n",
       "      <td>78</td>\n",
       "      <td>1000</td>\n",
       "    </tr>\n",
       "    <tr>\n",
       "      <th>1</th>\n",
       "      <td>2</td>\n",
       "      <td>2</td>\n",
       "      <td>3</td>\n",
       "      <td>4</td>\n",
       "      <td>2</td>\n",
       "      <td>4</td>\n",
       "      <td>2022-10-03 11:00:00</td>\n",
       "      <td>2022-10-03 15:00:00</td>\n",
       "      <td>0</td>\n",
       "      <td>95</td>\n",
       "      <td>1001</td>\n",
       "    </tr>\n",
       "    <tr>\n",
       "      <th>2</th>\n",
       "      <td>3</td>\n",
       "      <td>3</td>\n",
       "      <td>5</td>\n",
       "      <td>6</td>\n",
       "      <td>3</td>\n",
       "      <td>3</td>\n",
       "      <td>2022-10-05 14:00:00</td>\n",
       "      <td>2022-10-05 15:10:00</td>\n",
       "      <td>0</td>\n",
       "      <td>49</td>\n",
       "      <td>1002</td>\n",
       "    </tr>\n",
       "  </tbody>\n",
       "</table>\n",
       "</div>"
      ],
      "text/plain": [
       "   booking id  booking reference number  pickup location  dropoff location  \\\n",
       "0           1                         1                1                 2   \n",
       "1           2                         2                3                 4   \n",
       "2           3                         3                5                 6   \n",
       "\n",
       "   driver id  official id          start time            end time  \\\n",
       "0          1            2 2022-10-01 12:00:00 2022-10-01 13:15:00   \n",
       "1          2            4 2022-10-03 11:00:00 2022-10-03 15:00:00   \n",
       "2          3            3 2022-10-05 14:00:00 2022-10-05 15:10:00   \n",
       "\n",
       "   start odometer  end odometer  vehicle id  \n",
       "0               0            78        1000  \n",
       "1               0            95        1001  \n",
       "2               0            49        1002  "
      ]
     },
     "execution_count": 38,
     "metadata": {},
     "output_type": "execute_result"
    }
   ],
   "source": [
    "booking_df"
   ]
  },
  {
   "cell_type": "code",
   "execution_count": 43,
   "id": "6516306f",
   "metadata": {},
   "outputs": [
    {
     "name": "stderr",
     "output_type": "stream",
     "text": [
      "C:\\Users\\Public\\Documents\\Wondershare\\CreatorTemp\\ipykernel_764\\1063688167.py:1: UserWarning: pandas only supports SQLAlchemy connectable (engine/connection) or database string URI or sqlite3 DBAPI2 connection. Other DBAPI2 objects are not tested. Please consider using SQLAlchemy.\n",
      "  location_df=pd.read_sql_query(\"SELECT * FROM location\",conn)\n"
     ]
    }
   ],
   "source": [
    "location_df=pd.read_sql_query(\"SELECT * FROM location\",conn)"
   ]
  },
  {
   "cell_type": "code",
   "execution_count": 44,
   "id": "0ec9c65f",
   "metadata": {},
   "outputs": [
    {
     "name": "stderr",
     "output_type": "stream",
     "text": [
      "C:\\Users\\Public\\Documents\\Wondershare\\CreatorTemp\\ipykernel_764\\770532133.py:1: UserWarning: pandas only supports SQLAlchemy connectable (engine/connection) or database string URI or sqlite3 DBAPI2 connection. Other DBAPI2 objects are not tested. Please consider using SQLAlchemy.\n",
      "  official_df=pd.read_sql_query(\"SELECT * FROM official\",conn)\n"
     ]
    }
   ],
   "source": [
    "official_df=pd.read_sql_query(\"SELECT * FROM official\",conn)"
   ]
  },
  {
   "cell_type": "code",
   "execution_count": 45,
   "id": "d93007d1",
   "metadata": {},
   "outputs": [
    {
     "name": "stderr",
     "output_type": "stream",
     "text": [
      "C:\\Users\\Public\\Documents\\Wondershare\\CreatorTemp\\ipykernel_764\\380299149.py:1: UserWarning: pandas only supports SQLAlchemy connectable (engine/connection) or database string URI or sqlite3 DBAPI2 connection. Other DBAPI2 objects are not tested. Please consider using SQLAlchemy.\n",
      "  vehicle_maintenance_df=pd.read_sql_query(\"SELECT * FROM vehicle_maintenance\",conn)\n"
     ]
    }
   ],
   "source": [
    "vehicle_maintenance_df=pd.read_sql_query(\"SELECT * FROM vehicle_maintenance\",conn)"
   ]
  },
  {
   "cell_type": "code",
   "execution_count": 40,
   "id": "3322f5a5",
   "metadata": {},
   "outputs": [
    {
     "name": "stderr",
     "output_type": "stream",
     "text": [
      "C:\\Users\\Public\\Documents\\Wondershare\\CreatorTemp\\ipykernel_764\\3853487725.py:1: UserWarning: pandas only supports SQLAlchemy connectable (engine/connection) or database string URI or sqlite3 DBAPI2 connection. Other DBAPI2 objects are not tested. Please consider using SQLAlchemy.\n",
      "  vehicle_list_df=pd.read_sql_query(\"SELECT * FROM vehicle_list\",conn)\n"
     ]
    }
   ],
   "source": [
    "vehicle_list_df=pd.read_sql_query(\"SELECT * FROM vehicle_list\",conn)"
   ]
  },
  {
   "cell_type": "code",
   "execution_count": 46,
   "id": "273d8621",
   "metadata": {},
   "outputs": [
    {
     "data": {
      "text/html": [
       "<div>\n",
       "<style scoped>\n",
       "    .dataframe tbody tr th:only-of-type {\n",
       "        vertical-align: middle;\n",
       "    }\n",
       "\n",
       "    .dataframe tbody tr th {\n",
       "        vertical-align: top;\n",
       "    }\n",
       "\n",
       "    .dataframe thead th {\n",
       "        text-align: right;\n",
       "    }\n",
       "</style>\n",
       "<table border=\"1\" class=\"dataframe\">\n",
       "  <thead>\n",
       "    <tr style=\"text-align: right;\">\n",
       "      <th></th>\n",
       "      <th>location id</th>\n",
       "      <th>address</th>\n",
       "      <th>name</th>\n",
       "      <th>type</th>\n",
       "    </tr>\n",
       "  </thead>\n",
       "  <tbody>\n",
       "    <tr>\n",
       "      <th>0</th>\n",
       "      <td>1</td>\n",
       "      <td>123, Central-ro, Yeonsu-gu, Incheon, Republic ...</td>\n",
       "      <td>Incheon Central Park</td>\n",
       "      <td>Park</td>\n",
       "    </tr>\n",
       "    <tr>\n",
       "      <th>1</th>\n",
       "      <td>2</td>\n",
       "      <td>43, Songnae-daero, Bucheon-si, Gyeonggi-do, Re...</td>\n",
       "      <td>Song Nae Station</td>\n",
       "      <td>Station</td>\n",
       "    </tr>\n",
       "    <tr>\n",
       "      <th>2</th>\n",
       "      <td>3</td>\n",
       "      <td>269, Jemullyang-ro, Jung-gu, Incheon, Republic...</td>\n",
       "      <td>Incheon Station</td>\n",
       "      <td>Station</td>\n",
       "    </tr>\n",
       "    <tr>\n",
       "      <th>3</th>\n",
       "      <td>4</td>\n",
       "      <td>175, Biryu-daero, Yeonsu-gu, Incheon, Republic...</td>\n",
       "      <td>Song Do Station</td>\n",
       "      <td>Station</td>\n",
       "    </tr>\n",
       "    <tr>\n",
       "      <th>4</th>\n",
       "      <td>5</td>\n",
       "      <td>15, Gwangjang-ro, Bupyeong-gu, Incheon, Republ...</td>\n",
       "      <td>Bupyeong Station</td>\n",
       "      <td>Station</td>\n",
       "    </tr>\n",
       "    <tr>\n",
       "      <th>5</th>\n",
       "      <td>6</td>\n",
       "      <td>'271, Gonghang-ro, Jung-gu, Incheon, Republic ...</td>\n",
       "      <td>Incheon International Airport</td>\n",
       "      <td>Airport</td>\n",
       "    </tr>\n",
       "  </tbody>\n",
       "</table>\n",
       "</div>"
      ],
      "text/plain": [
       "   location id                                            address  \\\n",
       "0            1  123, Central-ro, Yeonsu-gu, Incheon, Republic ...   \n",
       "1            2  43, Songnae-daero, Bucheon-si, Gyeonggi-do, Re...   \n",
       "2            3  269, Jemullyang-ro, Jung-gu, Incheon, Republic...   \n",
       "3            4  175, Biryu-daero, Yeonsu-gu, Incheon, Republic...   \n",
       "4            5  15, Gwangjang-ro, Bupyeong-gu, Incheon, Republ...   \n",
       "5            6  '271, Gonghang-ro, Jung-gu, Incheon, Republic ...   \n",
       "\n",
       "                            name     type  \n",
       "0           Incheon Central Park     Park  \n",
       "1               Song Nae Station  Station  \n",
       "2                Incheon Station  Station  \n",
       "3                Song Do Station  Station  \n",
       "4               Bupyeong Station  Station  \n",
       "5  Incheon International Airport  Airport  "
      ]
     },
     "execution_count": 46,
     "metadata": {},
     "output_type": "execute_result"
    }
   ],
   "source": [
    "location_df"
   ]
  },
  {
   "cell_type": "code",
   "execution_count": 47,
   "id": "b1181683",
   "metadata": {},
   "outputs": [
    {
     "data": {
      "text/html": [
       "<div>\n",
       "<style scoped>\n",
       "    .dataframe tbody tr th:only-of-type {\n",
       "        vertical-align: middle;\n",
       "    }\n",
       "\n",
       "    .dataframe tbody tr th {\n",
       "        vertical-align: top;\n",
       "    }\n",
       "\n",
       "    .dataframe thead th {\n",
       "        text-align: right;\n",
       "    }\n",
       "</style>\n",
       "<table border=\"1\" class=\"dataframe\">\n",
       "  <thead>\n",
       "    <tr style=\"text-align: right;\">\n",
       "      <th></th>\n",
       "      <th>official id</th>\n",
       "      <th>country</th>\n",
       "      <th>language</th>\n",
       "      <th>role</th>\n",
       "      <th>city</th>\n",
       "      <th>name</th>\n",
       "    </tr>\n",
       "  </thead>\n",
       "  <tbody>\n",
       "    <tr>\n",
       "      <th>0</th>\n",
       "      <td>1</td>\n",
       "      <td>KR</td>\n",
       "      <td>ko</td>\n",
       "      <td>coach</td>\n",
       "      <td>23010520</td>\n",
       "      <td>'Kim Min Ho'</td>\n",
       "    </tr>\n",
       "    <tr>\n",
       "      <th>1</th>\n",
       "      <td>2</td>\n",
       "      <td>US</td>\n",
       "      <td>en</td>\n",
       "      <td>judge</td>\n",
       "      <td>23060500</td>\n",
       "      <td>'Charles Otto Puth Jr.</td>\n",
       "    </tr>\n",
       "    <tr>\n",
       "      <th>2</th>\n",
       "      <td>3</td>\n",
       "      <td>DE</td>\n",
       "      <td>de</td>\n",
       "      <td>coach</td>\n",
       "      <td>23070580</td>\n",
       "      <td>Hermann Karl Hesse</td>\n",
       "    </tr>\n",
       "    <tr>\n",
       "      <th>3</th>\n",
       "      <td>4</td>\n",
       "      <td>JP</td>\n",
       "      <td>ja</td>\n",
       "      <td>psysician</td>\n",
       "      <td>23060540</td>\n",
       "      <td>Ken Shimizu</td>\n",
       "    </tr>\n",
       "    <tr>\n",
       "      <th>4</th>\n",
       "      <td>5</td>\n",
       "      <td>IN</td>\n",
       "      <td>hi</td>\n",
       "      <td>psysician</td>\n",
       "      <td>23060670</td>\n",
       "      <td>'Mohammed Aamir Hussain Khan</td>\n",
       "    </tr>\n",
       "  </tbody>\n",
       "</table>\n",
       "</div>"
      ],
      "text/plain": [
       "   official id country language       role      city  \\\n",
       "0            1      KR       ko      coach  23010520   \n",
       "1            2      US       en      judge  23060500   \n",
       "2            3      DE       de      coach  23070580   \n",
       "3            4      JP       ja  psysician  23060540   \n",
       "4            5      IN       hi  psysician  23060670   \n",
       "\n",
       "                           name  \n",
       "0                  'Kim Min Ho'  \n",
       "1        'Charles Otto Puth Jr.  \n",
       "2            Hermann Karl Hesse  \n",
       "3                   Ken Shimizu  \n",
       "4  'Mohammed Aamir Hussain Khan  "
      ]
     },
     "execution_count": 47,
     "metadata": {},
     "output_type": "execute_result"
    }
   ],
   "source": [
    "official_df"
   ]
  },
  {
   "cell_type": "code",
   "execution_count": 48,
   "id": "7e458fc4",
   "metadata": {},
   "outputs": [
    {
     "data": {
      "text/html": [
       "<div>\n",
       "<style scoped>\n",
       "    .dataframe tbody tr th:only-of-type {\n",
       "        vertical-align: middle;\n",
       "    }\n",
       "\n",
       "    .dataframe tbody tr th {\n",
       "        vertical-align: top;\n",
       "    }\n",
       "\n",
       "    .dataframe thead th {\n",
       "        text-align: right;\n",
       "    }\n",
       "</style>\n",
       "<table border=\"1\" class=\"dataframe\">\n",
       "  <thead>\n",
       "    <tr style=\"text-align: right;\">\n",
       "      <th></th>\n",
       "      <th>vehicle id</th>\n",
       "      <th>action type</th>\n",
       "      <th>odometer</th>\n",
       "      <th>finalcost</th>\n",
       "      <th>description</th>\n",
       "      <th>start date</th>\n",
       "      <th>end date</th>\n",
       "    </tr>\n",
       "  </thead>\n",
       "  <tbody>\n",
       "    <tr>\n",
       "      <th>0</th>\n",
       "      <td>1000</td>\n",
       "      <td>M</td>\n",
       "      <td>4350</td>\n",
       "      <td>300</td>\n",
       "      <td>Tire replacement</td>\n",
       "      <td>2022-10-15</td>\n",
       "      <td>2022-10-15</td>\n",
       "    </tr>\n",
       "    <tr>\n",
       "      <th>1</th>\n",
       "      <td>1001</td>\n",
       "      <td>R</td>\n",
       "      <td>2195</td>\n",
       "      <td>1000</td>\n",
       "      <td>Engine replacement</td>\n",
       "      <td>2022-10-17</td>\n",
       "      <td>2022-10-18</td>\n",
       "    </tr>\n",
       "  </tbody>\n",
       "</table>\n",
       "</div>"
      ],
      "text/plain": [
       "   vehicle id action type  odometer  finalcost         description  \\\n",
       "0        1000           M      4350        300    Tire replacement   \n",
       "1        1001           R      2195       1000  Engine replacement   \n",
       "\n",
       "   start date    end date  \n",
       "0  2022-10-15  2022-10-15  \n",
       "1  2022-10-17  2022-10-18  "
      ]
     },
     "execution_count": 48,
     "metadata": {},
     "output_type": "execute_result"
    }
   ],
   "source": [
    "vehicle_maintenance_df"
   ]
  },
  {
   "cell_type": "code",
   "execution_count": 41,
   "id": "0393172a",
   "metadata": {},
   "outputs": [
    {
     "data": {
      "text/html": [
       "<div>\n",
       "<style scoped>\n",
       "    .dataframe tbody tr th:only-of-type {\n",
       "        vertical-align: middle;\n",
       "    }\n",
       "\n",
       "    .dataframe tbody tr th {\n",
       "        vertical-align: top;\n",
       "    }\n",
       "\n",
       "    .dataframe thead th {\n",
       "        text-align: right;\n",
       "    }\n",
       "</style>\n",
       "<table border=\"1\" class=\"dataframe\">\n",
       "  <thead>\n",
       "    <tr style=\"text-align: right;\">\n",
       "      <th></th>\n",
       "      <th>vehicle id</th>\n",
       "      <th>registration</th>\n",
       "      <th>manufacturer</th>\n",
       "      <th>model</th>\n",
       "      <th>color</th>\n",
       "      <th>current odometer</th>\n",
       "      <th>passanger capacity</th>\n",
       "    </tr>\n",
       "  </thead>\n",
       "  <tbody>\n",
       "    <tr>\n",
       "      <th>0</th>\n",
       "      <td>1000</td>\n",
       "      <td>2001ABC</td>\n",
       "      <td>Volvo</td>\n",
       "      <td>XC90 SE</td>\n",
       "      <td>Silver</td>\n",
       "      <td>4350</td>\n",
       "      <td>4</td>\n",
       "    </tr>\n",
       "    <tr>\n",
       "      <th>1</th>\n",
       "      <td>1001</td>\n",
       "      <td>2006AFD</td>\n",
       "      <td>Kia</td>\n",
       "      <td>K7</td>\n",
       "      <td>Black</td>\n",
       "      <td>2195</td>\n",
       "      <td>4</td>\n",
       "    </tr>\n",
       "    <tr>\n",
       "      <th>2</th>\n",
       "      <td>1002</td>\n",
       "      <td>2021AHR</td>\n",
       "      <td>Telsa</td>\n",
       "      <td>2020 F</td>\n",
       "      <td>White</td>\n",
       "      <td>590</td>\n",
       "      <td>4</td>\n",
       "    </tr>\n",
       "    <tr>\n",
       "      <th>3</th>\n",
       "      <td>1003</td>\n",
       "      <td>2020DXF</td>\n",
       "      <td>Ford</td>\n",
       "      <td>Transit</td>\n",
       "      <td>Silver</td>\n",
       "      <td>974</td>\n",
       "      <td>2</td>\n",
       "    </tr>\n",
       "  </tbody>\n",
       "</table>\n",
       "</div>"
      ],
      "text/plain": [
       "   vehicle id registration manufacturer    model   color  current odometer  \\\n",
       "0        1000      2001ABC        Volvo  XC90 SE  Silver              4350   \n",
       "1        1001      2006AFD          Kia       K7   Black              2195   \n",
       "2        1002      2021AHR        Telsa   2020 F   White               590   \n",
       "3        1003      2020DXF         Ford  Transit  Silver               974   \n",
       "\n",
       "   passanger capacity  \n",
       "0                   4  \n",
       "1                   4  \n",
       "2                   4  \n",
       "3                   2  "
      ]
     },
     "execution_count": 41,
     "metadata": {},
     "output_type": "execute_result"
    }
   ],
   "source": [
    "vehicle_list_df"
   ]
  },
  {
   "cell_type": "code",
   "execution_count": 56,
   "id": "7475fcb9",
   "metadata": {},
   "outputs": [],
   "source": [
    "insert_data = [[1004, '2022AAA', 'Kia','K9', 'Blue', 1000, 4]]\n",
    "insert_sql = \"INSERT INTO vehicle_list VALUES (%s, %s, %s, %s, %s, %s, %s);\""
   ]
  },
  {
   "cell_type": "code",
   "execution_count": 57,
   "id": "8ddfd35d",
   "metadata": {},
   "outputs": [
    {
     "data": {
      "text/plain": [
       "1"
      ]
     },
     "execution_count": 57,
     "metadata": {},
     "output_type": "execute_result"
    }
   ],
   "source": [
    "cursor.executemany(insert_sql, insert_data)"
   ]
  },
  {
   "cell_type": "code",
   "execution_count": 58,
   "id": "58886e82",
   "metadata": {},
   "outputs": [
    {
     "name": "stderr",
     "output_type": "stream",
     "text": [
      "C:\\Users\\Public\\Documents\\Wondershare\\CreatorTemp\\ipykernel_764\\3853487725.py:1: UserWarning: pandas only supports SQLAlchemy connectable (engine/connection) or database string URI or sqlite3 DBAPI2 connection. Other DBAPI2 objects are not tested. Please consider using SQLAlchemy.\n",
      "  vehicle_list_df=pd.read_sql_query(\"SELECT * FROM vehicle_list\",conn)\n"
     ]
    }
   ],
   "source": [
    "vehicle_list_df=pd.read_sql_query(\"SELECT * FROM vehicle_list\",conn)"
   ]
  },
  {
   "cell_type": "code",
   "execution_count": 59,
   "id": "6450d662",
   "metadata": {},
   "outputs": [
    {
     "data": {
      "text/html": [
       "<div>\n",
       "<style scoped>\n",
       "    .dataframe tbody tr th:only-of-type {\n",
       "        vertical-align: middle;\n",
       "    }\n",
       "\n",
       "    .dataframe tbody tr th {\n",
       "        vertical-align: top;\n",
       "    }\n",
       "\n",
       "    .dataframe thead th {\n",
       "        text-align: right;\n",
       "    }\n",
       "</style>\n",
       "<table border=\"1\" class=\"dataframe\">\n",
       "  <thead>\n",
       "    <tr style=\"text-align: right;\">\n",
       "      <th></th>\n",
       "      <th>vehicle id</th>\n",
       "      <th>registration</th>\n",
       "      <th>manufacturer</th>\n",
       "      <th>model</th>\n",
       "      <th>color</th>\n",
       "      <th>current odometer</th>\n",
       "      <th>passanger capacity</th>\n",
       "    </tr>\n",
       "  </thead>\n",
       "  <tbody>\n",
       "    <tr>\n",
       "      <th>0</th>\n",
       "      <td>1000</td>\n",
       "      <td>2001ABC</td>\n",
       "      <td>Volvo</td>\n",
       "      <td>XC90 SE</td>\n",
       "      <td>Silver</td>\n",
       "      <td>4350</td>\n",
       "      <td>4</td>\n",
       "    </tr>\n",
       "    <tr>\n",
       "      <th>1</th>\n",
       "      <td>1001</td>\n",
       "      <td>2006AFD</td>\n",
       "      <td>Kia</td>\n",
       "      <td>K7</td>\n",
       "      <td>Black</td>\n",
       "      <td>2195</td>\n",
       "      <td>4</td>\n",
       "    </tr>\n",
       "    <tr>\n",
       "      <th>2</th>\n",
       "      <td>1002</td>\n",
       "      <td>2021AHR</td>\n",
       "      <td>Telsa</td>\n",
       "      <td>2020 F</td>\n",
       "      <td>White</td>\n",
       "      <td>590</td>\n",
       "      <td>4</td>\n",
       "    </tr>\n",
       "    <tr>\n",
       "      <th>3</th>\n",
       "      <td>1003</td>\n",
       "      <td>2020DXF</td>\n",
       "      <td>Ford</td>\n",
       "      <td>Transit</td>\n",
       "      <td>Silver</td>\n",
       "      <td>974</td>\n",
       "      <td>2</td>\n",
       "    </tr>\n",
       "    <tr>\n",
       "      <th>4</th>\n",
       "      <td>1004</td>\n",
       "      <td>2022AAA</td>\n",
       "      <td>Kia</td>\n",
       "      <td>K9</td>\n",
       "      <td>Blue</td>\n",
       "      <td>1000</td>\n",
       "      <td>4</td>\n",
       "    </tr>\n",
       "  </tbody>\n",
       "</table>\n",
       "</div>"
      ],
      "text/plain": [
       "   vehicle id registration manufacturer    model   color  current odometer  \\\n",
       "0        1000      2001ABC        Volvo  XC90 SE  Silver              4350   \n",
       "1        1001      2006AFD          Kia       K7   Black              2195   \n",
       "2        1002      2021AHR        Telsa   2020 F   White               590   \n",
       "3        1003      2020DXF         Ford  Transit  Silver               974   \n",
       "4        1004      2022AAA          Kia       K9    Blue              1000   \n",
       "\n",
       "   passanger capacity  \n",
       "0                   4  \n",
       "1                   4  \n",
       "2                   4  \n",
       "3                   2  \n",
       "4                   4  "
      ]
     },
     "execution_count": 59,
     "metadata": {},
     "output_type": "execute_result"
    }
   ],
   "source": [
    "vehicle_list_df"
   ]
  },
  {
   "cell_type": "code",
   "execution_count": null,
   "id": "957cbc87",
   "metadata": {},
   "outputs": [],
   "source": []
  },
  {
   "cell_type": "code",
   "execution_count": null,
   "id": "45eadac0",
   "metadata": {},
   "outputs": [],
   "source": []
  },
  {
   "cell_type": "code",
   "execution_count": null,
   "id": "1ddc25fa",
   "metadata": {},
   "outputs": [],
   "source": []
  },
  {
   "cell_type": "code",
   "execution_count": null,
   "id": "67b72d0b",
   "metadata": {},
   "outputs": [],
   "source": []
  },
  {
   "cell_type": "code",
   "execution_count": null,
   "id": "819c7641",
   "metadata": {},
   "outputs": [],
   "source": []
  }
 ],
 "metadata": {
  "kernelspec": {
   "display_name": "Python 3 (ipykernel)",
   "language": "python",
   "name": "python3"
  },
  "language_info": {
   "codemirror_mode": {
    "name": "ipython",
    "version": 3
   },
   "file_extension": ".py",
   "mimetype": "text/x-python",
   "name": "python",
   "nbconvert_exporter": "python",
   "pygments_lexer": "ipython3",
   "version": "3.10.2"
  }
 },
 "nbformat": 4,
 "nbformat_minor": 5
}
